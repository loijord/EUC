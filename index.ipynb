{
 "cells": [
  {
   "cell_type": "markdown",
   "metadata": {},
   "source": [
    "* How to start riding EUC?\n",
    "* Indications of range are rarely accurate. How to find a real range of a certain EUC? [Go to my research](euc_research.ipynb)\n",
    "* What's the best price per range rate you can get on different brands? [Go to my research](euc_research.ipynb)\n",
    "* What about waterproof?\n",
    "* Can't you get it cheaper?"
   ]
  }
 ],
 "metadata": {
  "kernelspec": {
   "display_name": "Python 3 (ipykernel)",
   "language": "python",
   "name": "python3"
  },
  "language_info": {
   "codemirror_mode": {
    "name": "ipython",
    "version": 3
   },
   "file_extension": ".py",
   "mimetype": "text/x-python",
   "name": "python",
   "nbconvert_exporter": "python",
   "pygments_lexer": "ipython3",
   "version": "3.9.13"
  }
 },
 "nbformat": 4,
 "nbformat_minor": 1
}
