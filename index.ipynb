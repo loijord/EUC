{
 "cells": [
  {
   "cell_type": "markdown",
   "metadata": {},
   "source": [
    "## Sveiki apsilankę vienaračių puslapyje\n",
    "\n",
    "**Tai yra mano (Naktinio Saimono) pakurtas puslapis apie vienaračius. Keliones pradėjau nuo Kingsong 16S (kaina: 995€, greitis: 35km/h, nuvažiuojamas atstumas: 60km, rida: 5000km, pirktas iš Novastar) kurjerio darbui per Bolt/Wolt maisto platformas. Vienaračių kainos iš pažiūros didesnės, nei tarkim elektrinių dviračių ar paspirtukų, tačiau remonto išlaidos mažiausios, o įpratę važiuoti gali patvirtinti, kad važiavimas saugus ir fainas.**  \n",
    "\n",
    "**Puslapio tikslas - supažindinti su pirmaisiais važinėjimo žingsniais, apžvelgti ir palyginti skirtingų modelių kainas bei kitus parametrus, teikti informaciją apie pirkimo vietas, o galiausiai - paskatinti vienaratininkų bendruomenės kūrimąsi ir keitimąsi naudinga informacija Lietuvoje**\n",
    "\n",
    "* [Kaip išmokti važiuoti vienaračiu?](./refs/first_steps/first_steps.html)\n",
    "* [Kokią elektrinę priemonę nuomotis kurjerio darbui, jei norisi kuo greičiau susitaupyti vienaračiui?](./refs/rent_research/rent_analysis.html)\n",
    "* Gamintojai dažniausiai nurodo išpūstus vienu įkrovimu nuvažiuojamus atstumus. [Kaip juos nustatyti tiksliau?](./refs/range_research/euc_research_LT.html)\n",
    "* Skirtingų vienaračių modelių kainos ir nuvažiuojami atstumai skiriasi. [Kaip išsirinkti optimalų variantą už prieinamą kainą?](./refs/price_research/price_research.html)\n",
    "* Apie apsaugą nuo drėgmės.\n",
    "* Kaip įmanoma išsisukti su pigesnėmis kainomis? [Laikina nuoroda į parduodamus vienaračius per skelbimus](./refs/advertisements/advertisements.html)"
   ]
  }
 ],
 "metadata": {
  "kernelspec": {
   "display_name": "Python 3 (ipykernel)",
   "language": "python",
   "name": "python3"
  },
  "language_info": {
   "codemirror_mode": {
    "name": "ipython",
    "version": 3
   },
   "file_extension": ".py",
   "mimetype": "text/x-python",
   "name": "python",
   "nbconvert_exporter": "python",
   "pygments_lexer": "ipython3",
   "version": "3.9.13"
  },
  "toc": {
   "base_numbering": 1,
   "nav_menu": {},
   "number_sections": true,
   "sideBar": true,
   "skip_h1_title": false,
   "title_cell": "Table of Contents",
   "title_sidebar": "Contents",
   "toc_cell": false,
   "toc_position": {},
   "toc_section_display": true,
   "toc_window_display": false
  },
  "varInspector": {
   "cols": {
    "lenName": 16,
    "lenType": 16,
    "lenVar": 40
   },
   "kernels_config": {
    "python": {
     "delete_cmd_postfix": "",
     "delete_cmd_prefix": "del ",
     "library": "var_list.py",
     "varRefreshCmd": "print(var_dic_list())"
    },
    "r": {
     "delete_cmd_postfix": ") ",
     "delete_cmd_prefix": "rm(",
     "library": "var_list.r",
     "varRefreshCmd": "cat(var_dic_list()) "
    }
   },
   "types_to_exclude": [
    "module",
    "function",
    "builtin_function_or_method",
    "instance",
    "_Feature"
   ],
   "window_display": false
  }
 },
 "nbformat": 4,
 "nbformat_minor": 1
}
