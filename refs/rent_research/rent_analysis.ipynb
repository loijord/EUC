{
 "cells": [
  {
   "cell_type": "markdown",
   "metadata": {
    "tags": [
     "user"
    ]
   },
   "source": [
    "## Nuomojamų elektrinių priemonių apžvalga\n",
    "\n",
    "Šio puslapio tikslas yra palyginti visas nuomojamas elektrines priemones Vilniuje kurjeriavimui. Pradiniai duomenys surinkti iš puslapių, tokių kaip [dalinuosi.lt](https://www.dalinuosi.lt/dviraciu-paspirtuku-nuoma/vilnius), [rentebike.lt](https://www.rentebike.lt/elektriniai-nuomai), [shift.lt](https://www.shift.lt/puslapis/15-elektriniu-paspirtuku-ir-elektriniu-dviraciu-nuoma) ir kt. Pilni duomenys atrodo taip:"
   ]
  },
  {
   "cell_type": "code",
   "execution_count": 1,
   "metadata": {
    "tags": [
     "dev"
    ]
   },
   "outputs": [],
   "source": [
    "#jupyter nbconvert --to html --no-input --TagRemovePreprocessor.remove_cell_tags dev index.ipynb"
   ]
  },
  {
   "cell_type": "code",
   "execution_count": null,
   "metadata": {
    "tags": [
     "dev"
    ]
   },
   "outputs": [],
   "source": [
    "import pandas as pd\n",
    "from IPython.display import display, Markdown\n",
    "import os\n",
    "    \n",
    "df = pd.read_csv('dalinuosi.txt')\n",
    "df['Nuoroda'] = df['Nuoroda'].apply(lambda x: '[Link]('+x+')')\n",
    "print(df.to_markdown().replace('nan', '')) #display(Markdown(...))"
   ]
  },
  {
   "cell_type": "markdown",
   "metadata": {
    "tags": [
     "user"
    ]
   },
   "source": [
    "|    | Priemonė    | Modelis                      |   Kaina 24h |   Kaina sav |   Kaina mėn |   Greitis |   Atstumas |   Krovimo laikas | Nuoroda                                                                                                           |\n",
    "|---:|:------------|:-----------------------------|------------:|------------:|------------:|----------:|-----------:|-----------------:|:------------------------------------------------------------------------------------------------------------------|\n",
    "|  0 | Paspirtukas | Xiaomi M365 1S               |          10 |          35 |          70 |        25 |         27 |              5   | [Link](https://www.dalinuosi.lt/dviraciu-paspirtuku-nuoma/vilnius/xiaomi-m365-1s-elektrinis-paspirtukas-9799)     |\n",
    "|  1 | Paspirtukas | Xiaomi mi 1S                 |           5 |          35 |          70 |        25 |         30 |              5   | [Link](https://www.dalinuosi.lt/dviraciu-paspirtuku-nuoma/vilnius/xiaomi-mi-1s-elektrinis-paspirtukas-16003)      |\n",
    "|  2 | Paspirtukas | Xiaomi M365                  |           8 |          40 |          |        25 |         27 |              4.5 | [Link](https://www.dalinuosi.lt/dviraciu-paspirtuku-nuoma/vilnius/xiaomi-m365-elektrinis-paspirtukas-9976)        |\n",
    "|  3 | Paspirtukas | XIAOMI MI 365                |           8 |          40 |          80 |        25 |         27 |              4.5 | [Link](https://www.dalinuosi.lt/dviraciu-paspirtuku-nuoma/vilnius/elektrinis-paspirtukas-xiaomi-mi-365-16422)     |\n",
    "|  4 | Paspirtukas | XIAOMI MI 365                |          12 |          60 |         120 |        25 |         27 |              4.5 | [Link](https://www.dalinuosi.lt/dviraciu-paspirtuku-nuoma/vilnius/xiaomi-mi-365-elektrinis-paspirtukas-18841)     |\n",
    "|  5 | Paspirtukas | XIAOMI MI 365                |           8 |          40 |          80 |        25 |         27 |              4.5 | [Link](https://www.dalinuosi.lt/dviraciu-paspirtuku-nuoma/vilnius/elektrinis-paspirtukas-xiaomi-mi-365-22629)     |\n",
    "|  6 | Paspirtukas | Xiaomi Mi M365               |           7 |          40 |         100 |        25 |         27 |              4.5 | [Link](https://www.dalinuosi.lt/dviraciu-paspirtuku-nuoma/vilnius/paspirtuko-nuoma-xiaomi-mi-m365-20868)          |\n",
    "|  7 | Paspirtukas | M365 Pro                     |           7 |          45 |          |        30 |         45 |              8.5 | [Link](https://www.dalinuosi.lt/dviraciu-paspirtuku-nuoma/vilnius/m365-pro-elektrinis-paspirtukas-12554)          |\n",
    "|  8 | Paspirtukas | Xiaomi M365 Pro              |          12 |          |          |        25 |         45 |              8.5 | [Link](https://www.dalinuosi.lt/dviraciu-paspirtuku-nuoma/vilnius/xiaomi-m365-pro-galimas-pristatymas-15335)      |\n",
    "|  9 | Paspirtukas | Xiaomi M365 Pro              |          12 |          60 |         200 |        25 |         45 |              8.5 | [Link](https://www.dalinuosi.lt/dviraciu-paspirtuku-nuoma/vilnius/elektrinis-paspirtukas-xiaomi-m365-pro-15430)   |\n",
    "| 10 | Paspirtukas | XIAOMI MI Pro 2              |           8 |          40 |          80 |        25 |         45 |              8.5 | [Link](https://www.dalinuosi.lt/dviraciu-paspirtuku-nuoma/vilnius/elektrinis-paspirtukas-xiaomi-mi-pro-2-19848)   |\n",
    "| 11 | Paspirtukas | XIAOMI Mi Pro 2              |          12 |          60 |         120 |        25 |         45 |              8.5 | [Link](https://www.dalinuosi.lt/dviraciu-paspirtuku-nuoma/vilnius/elektrinis-paspirtukas-xiaomi-mi-pro-2-21150)   |\n",
    "| 12 | Paspirtukas | XIAOMI Mi Pro 2              |          12 |          60 |         180 |        25 |         45 |              8.5 | [Link](https://www.dalinuosi.lt/dviraciu-paspirtuku-nuoma/vilnius/elektrinis-paspirtukas-xiaomi-mi-pro-2-21151)   |\n",
    "| 13 | Paspirtukas | Xiaomi Pro2                  |          15 |          80 |          |        25 |         45 |              8.5 | [Link](https://www.dalinuosi.lt/dviraciu-paspirtuku-nuoma/vilnius/xiomi-pro2-26100)                               |\n",
    "| 14 | Paspirtukas | Xiaomi Pro2                  |           9 |          35 |          |        25 |         45 |              8.5 | [Link](https://www.dalinuosi.lt/dviraciu-paspirtuku-nuoma/vilnius/paspirtukas-xiaomi-pro-2-21080)                 |\n",
    "| 15 | Paspirtukas | Xiaomi Pro2                  |          12 |          50 |         150 |        25 |         45 |              8.5 | [Link](https://www.dalinuosi.lt/dviraciu-paspirtuku-nuoma/vilnius/xiaomi-pro-2-elektrinis-paspirtukas-21898)      |\n",
    "| 16 | Paspirtukas | Xiaomi m365 Pro2             |          12 |          60 |         100 |        25 |         45 |              8.5 | [Link](https://www.dalinuosi.lt/dviraciu-paspirtuku-nuoma/vilnius/xiaomi-m365-pro2-24475)                         |\n",
    "| 17 | Paspirtukas | XIAOMI Mi 3                  |          12 |          60 |         120 |        25 |         30 |              5   | [Link](https://www.dalinuosi.lt/dviraciu-paspirtuku-nuoma/vilnius/xiaomi-mi-3-el-paspirtukas-22202)               |\n",
    "| 18 | Paspirtukas | XIAOMI 4                     |          12 |          39 |          89 |        25 |         35 |              5   | [Link](https://www.dalinuosi.lt/dviraciu-paspirtuku-nuoma/vilnius/elektrinis-paspirtukas-xiaomi-4-25227)          |\n",
    "| 19 | Paspirtukas | Xiaomi 4 Lite                |           8 |          25 |          49 |        25 |         20 |              5   | [Link](https://www.dalinuosi.lt/dviraciu-paspirtuku-nuoma/vilnius/xiaomi-elektrinis-paspirtukas-4-lite-25228)     |\n",
    "| 20 | Paspirtukas | Mi Electric Scooter Pro2     |          15 |          76 |         200 |        25 |         45 |              5   | [Link](https://www.dalinuosi.lt/dviraciu-paspirtuku-nuoma/vilnius/paspirtukas-45km-galingas-pro2-21675)           |\n",
    "| 21 | Paspirtukas | Mi Electric Scooter Pro2     |          15 |          76 |         200 |        25 |         45 |              5   | [Link](https://www.dalinuosi.lt/dviraciu-paspirtuku-nuoma/vilnius/elektrinis-paspirtukas-21676)                   |\n",
    "| 22 | Paspirtukas | Ninebot MAX G30              |          15 |          45 |         100 |        30 |         65 |              6   | [Link](https://www.dalinuosi.lt/dviraciu-paspirtuku-nuoma/vilnius/ninebot-max-g30-elektrinis-paspirtukai-14655)   |\n",
    "| 23 | Paspirtukas | Ninebot MAX G30              |          15 |          45 |          |        30 |         65 |              6   | [Link](https://www.dalinuosi.lt/dviraciu-paspirtuku-nuoma/vilnius/ninebot-max-g30-elektriniai-paspirtukai-15016)  |\n",
    "| 24 | Paspirtukas | Ninebot Max G2               |          30 |          65 |         200 |        30 |         70 |              6   | [Link](https://www.dalinuosi.lt/dviraciu-paspirtuku-nuoma/vilnius/ninebot-max-g2-26371)                           |\n",
    "| 25 | Paspirtukas | Xiaomi ninebot ES4           |           5 |          25 |          70 |        30 |         45 |              7   | [Link](https://www.dalinuosi.lt/dviraciu-paspirtuku-nuoma/vilnius/paspirtukas-xiaomi-ninebot-es4-22313)           |\n",
    "| 26 | Paspirtukas | E-Twow GT                    |          15 |          80 |         180 |        45 |         50 |              4   | [Link](https://www.dalinuosi.lt/dviraciu-paspirtuku-nuoma/vilnius/e-twow-gt-paspirtukas-2022-15792)               |\n",
    "| 27 | Paspirtukas | Ninebot by Segway ES1        |           8 |          40 |          80 |        20 |         25 |              3.5 | [Link](https://www.dalinuosi.lt/dviraciu-paspirtuku-nuoma/vilnius/ninebot-by-segway-es1-el-paspirtukas-15811)     |\n",
    "| 28 | Paspirtukas | Segway Kickscooter ES        |           8 |          40 |          80 |        25 |         25 |              3.5 | [Link](https://www.dalinuosi.lt/dviraciu-paspirtuku-nuoma/vilnius/ninebot-by-segway-kickscooter-es-18760)         |\n",
    "| 29 | Paspirtukas | Segway Kickscooter ES        |           8 |          40 |          80 |        25 |         25 |              3.5 | [Link](https://www.dalinuosi.lt/dviraciu-paspirtuku-nuoma/vilnius/ninebot-by-segway-es2-el-paspirtukas-19217)     |\n",
    "| 30 | Paspirtukas | Segway                       |          10 |          45 |         110 |        25 |         25 |              4   | [Link](https://www.dalinuosi.lt/dviraciu-paspirtuku-nuoma/vilnius/elektrinis-paspirtukas-segway-11798)            |\n",
    "| 31 | Paspirtukas | Inokim OX                    |          27 |         120 |         300 |        25 |         46 |              7   | [Link](https://www.dalinuosi.lt/dviraciu-paspirtuku-nuoma/vilnius/inokim-ox-19268)                                |\n",
    "| 32 | Paspirtukas | Inokim Ox Hero               |          25 |         150 |         400 |        45 |         50 |              7   | [Link](https://www.dalinuosi.lt/dviraciu-paspirtuku-nuoma/vilnius/inokim-ox-hero-26099)                           |\n",
    "| 33 | Paspirtukas | Dualtron Mini Pro 17.5ah     |          30 |         200 |         600 |        45 |         55 |              8   | [Link](https://www.dalinuosi.lt/dviraciu-paspirtuku-nuoma/vilnius/dualtron-mini-pro-17-5ah-21337)                 |\n",
    "| 34 | Paspirtukas | Maserati                     |          14 |          70 |         140 |        25 |         25 |              4.5 | [Link](https://www.dalinuosi.lt/dviraciu-paspirtuku-nuoma/vilnius/elektrinis-paspirtukas-maserati-24511)          |\n",
    "| 35 | Vienaratis  | Kingsong KS-14D              |          15 |          50 |         120 |        22 |         30 |              3.5 | [Link](https://www.dalinuosi.lt/dviraciu-paspirtuku-nuoma/vilnius/vienaratis-kingsong-ks-14d-22198)               |\n",
    "| 36 | Riedlentė   | Longboard                    |          10 |          42 |          |        35 |         20 |              3   | [Link](https://www.dalinuosi.lt/dviraciu-paspirtuku-nuoma/vilnius/riedlente-elektrine-longboard-35km-h-18477)     |\n",
    "| 37 | Riedis      | Riedis                       |           6 |          30 |          70 |         8 |          7 |              5   | [Link](https://www.dalinuosi.lt/dviraciu-paspirtuku-nuoma/vilnius/riedis-26619)                                   |\n",
    "| 38 | Dviratis    | Kalnu E MTB Elektrinis       |          30 |         150 |          |        45 |         35 |               | [Link](https://www.dalinuosi.lt/dviraciu-paspirtuku-nuoma/vilnius/kalnu-e-mtb-elektrinis-dviratis-rent-19565)     |\n",
    "| 39 | Dviratis    | Kalnu E MTB Elektrinis Bosch |          30 |         100 |          |        45 |         35 |               | [Link](https://www.dalinuosi.lt/dviraciu-paspirtuku-nuoma/vilnius/kalnu-e-mtb-elektrinis-dviratis-bosch-19566)    |\n",
    "| 40 | Dviratis    | Kalnu E MTB Fulas            |          50 |         200 |          |        45 |         40 |               | [Link](https://www.dalinuosi.lt/dviraciu-paspirtuku-nuoma/vilnius/kalnu-e-mtb-fulas-elektrinis-dviratis-26417)    |\n",
    "| 41 | Dviratis    | Fiido D4s sulankstomas       |          15 |          70 |         260 |        35 |         40 |               | [Link](https://www.dalinuosi.lt/dviraciu-paspirtuku-nuoma/vilnius/elektriniai-dviraciai-fiido-d4s-sulankst-16235) |\n",
    "| 42 | Dviratis    | Fiido D4s                    |          10 |          50 |         190 |        30 |         40 |               | [Link](https://www.dalinuosi.lt/dviraciu-paspirtuku-nuoma/vilnius/dviratis-elektrinis-fiido-d4s-pro-3-vnt-21346)  |\n",
    "| 43 | Dviratis    | Merinda                      |          15 |          65 |          |        25 |         70 |               | [Link](https://www.dalinuosi.lt/dviraciu-paspirtuku-nuoma/vilnius/merida-elektrinis-dviratis-24311)               |\n",
    "| 44 | Dviratis    | Haibike Xduro RS FS          |          35 |         200 |         600 |        45 |         70 |               | [Link](https://www.dalinuosi.lt/dviraciu-paspirtuku-nuoma/vilnius/elektrinis-dviratis-haibike-xduro-rs-fs-5835)   |\n",
    "| 45 | Dviratis    | KROSS Trans Hybrid D28 M     |          40 |         200 |         600 |        45 |        100 |               | [Link](https://www.dalinuosi.lt/dviraciu-paspirtuku-nuoma/vilnius/kross-trans-hybrid-d28-m-el-dviratis-22455)     |\n",
    "| 46 | Dviratis    | ADO A20F Beast               |          29 |         149 |         249 |        25 |         40 |              4.5 | [Link](https://www.dalinuosi.lt/dviraciu-paspirtuku-nuoma/vilnius/elektrinis-dviratis-ado-a20f-beast-25214)       |\n",
    "| 47 | Dviratis    | Dviratis HIMO Z20            |          19 |          95 |         190 |        25 |         40 |              5   | [Link](https://www.dalinuosi.lt/dviraciu-paspirtuku-nuoma/vilnius/elektrinis-dviratis-himo-z20-25843)             |\n",
    "| 48 | Dviratis    | KTM                          |          25 |         100 |          |        25 |         55 |               | [Link](https://www.dalinuosi.lt/dviraciu-paspirtuku-nuoma/vilnius/ktm-el-dviratis-26008)                          |\n",
    "| 49 | Dviratis    | Downhill                     |          30 |         180 |         500 |        55 |        100 |               | [Link](https://www.dalinuosi.lt/dviraciu-paspirtuku-nuoma/vilnius/elektrinis-downhill-dviratis-mopedas-26380)     |\n",
    "| 50 | Dviratis    | FAT                          |          10 |          50 |         130 |        45 |         50 |               | [Link](https://www.dalinuosi.lt/dviraciu-paspirtuku-nuoma/vilnius/elektrinis-fat-dviratis-27451)                  |\n",
    "| 51 | Paspirtukas | Ninebot ES                   |          15 |          20 |          60 |        25 |         15 |              3.5 | [Link](https://www.rentebike.lt/elektriniai-nuomai)                                                               |\n",
    "| 52 | Paspirtukas | Ninebot MAX G30              |          20 |          45 |         120 |        25 |         65 |              6   | [Link](https://www.rentebike.lt/elektriniai-nuomai)                                                               |\n",
    "| 53 | Paspirtukas | Ninebot MAX RANGE            |          30 |          80 |         250 |        25 |        120 |               | [Link](https://www.rentebike.lt/elektriniai-nuomai)                                                               |\n",
    "| 54 | Paspirtukas | Ninebot MAX G2               |          30 |          70 |         200 |        25 |         70 |              6   | [Link](https://www.rentebike.lt/elektriniai-nuomai)                                                               |\n",
    "| 55 | Paspirtukas | Ninebot P100                 |          35 |         120 |          |        48 |        100 |              7   | [Link](https://www.rentebike.lt/elektriniai-nuomai)                                                               |\n",
    "| 56 | Paspirtukas | Inokim OXO                   |          40 |         120 |          |        52 |        120 |               | [Link](https://www.rentebike.lt/elektriniai-nuomai)                                                               |\n",
    "| 57 | Dviratis    | Fiido Kurjeriams             |          25 |          80 |         280 |        25 |        150 |               | [Link](https://www.rentebike.lt/elektriniai-nuomai)                                                               |\n",
    "| 58 | Dviratis    | Fiido Q2                     |          35 |         100 |          |        45 |        100 |               | [Link](https://www.rentebike.lt/elektriniai-nuomai)                                                               |\n",
    "| 59 | Dviratis    | Fiido 4S                     |          20 |          50 |          |        25 |         50 |               | [Link](https://www.rentebike.lt/elektriniai-nuomai)                                                               |\n",
    "| 60 | Dviratis    | Himo Z20                     |          20 |          50 |          |        25 |         50 |               | [Link](https://www.rentebike.lt/elektriniai-nuomai)                                                               |\n",
    "| 61 | Dviratis    | DUOTTS C29                   |          20 |          80 |          |        45 |         50 |               | [Link](https://www.rentebike.lt/elektriniai-nuomai)                                                               |\n",
    "| 62 | Dviratis    | Bulls                        |          25 |          70 |          |        25 |         90 |               | [Link](https://www.rentebike.lt/elektriniai-nuomai)                                                               |\n",
    "| 63 | Dviratis    | White e trecking             |          30 |          85 |          |        25 |        130 |               | [Link](https://www.rentebike.lt/elektriniai-nuomai)                                                               |\n",
    "| 64 | Dviratis    | Scott Aspect                 |          35 |          90 |          |        25 |        200 |               | [Link](https://www.rentebike.lt/elektriniai-nuomai)                                                               |\n",
    "| 65 | Dviratis    | Fiido T1 PRO                 |          35 |         120 |          |        45 |        150 |               | [Link](https://www.rentebike.lt/elektriniai-nuomai)                                                               |\n",
    "| 66 | Dviratis    | Engwe EP-2PRO                |          30 |          90 |          |        35 |         70 |               | [Link](https://www.rentebike.lt/elektriniai-nuomai)                                                               |\n",
    "| 67 | Dviratis    | Custom MB                    |          35 |         120 |          |        45 |        120 |               | [Link](https://www.rentebike.lt/elektriniai-nuomai)                                                               |\n",
    "| 68 | Paspirtukas | Ninebot MAX G30              |          20 |          45 |         130 |        30 |         65 |              6   | [Link](https://www.shift.lt/puslapis/15-elektriniu-paspirtuku-ir-elektriniu-dviraciu-nuoma)                       |\n",
    "| 69 | Paspirtukas | Ninebot MAX Range            |          25 |          75 |         240 |        25 |         65 |              9   | [Link](https://www.shift.lt/puslapis/15-elektriniu-paspirtuku-ir-elektriniu-dviraciu-nuoma)                       |\n",
    "| 70 | Dviratis    | Fiido kurjeriams             |          25 |          80 |         280 |        25 |        150 |               | [Link](https://www.shift.lt/puslapis/15-elektriniu-paspirtuku-ir-elektriniu-dviraciu-nuoma)                       |\n",
    "| 71 | Traktorius  | Vokbike                      |          19 |          |         369 |        25 |        100 |               | [Link](https://vokbikes.com/slots-prices-vilnius/)                                                                |\n",
    "| 72 | Paspirtukas | Ninebot G30 MAX              |          20 |          50 |         100 |        30 |         65 |              6   | [Link](https://rideme.lt/)                                                                                        |\n",
    "| 73 | Dviratis    | EBike su Bosch               |          |          90 |          |        45 |         35 |               | [Link](https://rideme.lt/)                                                                                        |\n",
    "| 74 | Paspirtukas | Ninebot MAX G30LE            |          25 |          55 |         151 |        25 |         40 |              6.5 | [Link](https://nopedalsrent.lt/product/elektrinio-paspirtuko-ninebot-max-g30le-nuoma/)                            |\n",
    "| 75 | Paspirtukas | Cityway Max 10″ 500W         |          25 |          55 |         151 |        30 |         65 |              6   | [Link](https://nopedalsrent.lt/product/elektrinio-paspirtuko-ninebot-max-g30le-nuoma/)                            |\n",
    "| 76 | Paspirtukas | Xiaomi M365 1S               |          10 |          30 |          |        25 |         30 |              5   | [Link](https://zaiskit.lt/elektriniu-paspirtuku-nuoma-vilniuje)                                                   |\n",
    "| 77 | Paspirtukas | Ninebot Max G30              |           7 |          40 |          |        30 |         65 |              6   | [Link](https://zaiskit.lt/elektriniu-paspirtuku-nuoma-vilniuje)                                                   |\n",
    "| 78 | Paspirtukas | Ninebot Max G2               |          30 |          65 |          |        35 |         65 |              6   | [Link](https://zaiskit.lt/elektriniu-paspirtuku-nuoma-vilniuje)                                                   |\n",
    "| 79 | Dviratis    | Fiido D4s Pro                |          15 |          65 |          |        35 |         90 |               | [Link](https://zaiskit.lt/elektriniu-paspirtuku-nuoma-vilniuje)                                                   |\n",
    "| 80 | Dviratis    | Fiido L3                     |          |          80 |          |        40 |        200 |               | [Link](https://zaiskit.lt/elektriniu-paspirtuku-nuoma-vilniuje)                                                   |\n"
   ]
  },
  {
   "cell_type": "markdown",
   "metadata": {
    "tags": [
     "user"
    ]
   },
   "source": [
    "## ct/km santykis\n",
    "\n",
    "Duomenys, pateikti patogesne forma ir surūšiuoti pagal ct/km santykį dienai (geriausia nuomos kaina parai padalinta iš vienu įkrovimu nuvažiuojamo atstumo)"
   ]
  },
  {
   "cell_type": "code",
   "execution_count": null,
   "metadata": {
    "tags": [
     "dev"
    ]
   },
   "outputs": [],
   "source": [
    "df_display = df[['Priemonė','Modelis','Greitis','Atstumas','Krovimo laikas','Nuoroda']].copy()\n",
    "idxs, cols = pd.factorize((df[['Kaina 24h','Kaina sav','Kaina mėn']]/[1,7,30]).idxmin(axis=1))\n",
    "val_names = [x[-3:] for x in cols[idxs]]\n",
    "val = df.reindex(cols, axis=1).to_numpy()[np.arange(len(df)), idxs].astype(int)\n",
    "val_rate = (df[['Kaina 24h','Kaina sav','Kaina mėn']]/[1,7,30]).min(axis=1).round(2).tolist()\n",
    "best_offer = [f'{x}€ / {y}' for x,y in zip(val, val_names)]\n",
    "df_display.insert(2, 'Geriausias pasiūlymas',best_offer)\n",
    "df_display.insert(3, 'Dienai', val_rate)\n",
    "df_display.insert(4, 'ct/km', (100*df_display['Dienai']/df_display['Atstumas']).round(2))\n",
    "df_display = df_display.sort_values(by='ct/km').reset_index(drop=True)\n",
    "print(df_display.to_markdown().replace('nan', ''))"
   ]
  },
  {
   "cell_type": "markdown",
   "metadata": {
    "tags": [
     "user"
    ]
   },
   "source": [
    "|    | Priemonė    | Modelis                      | Geriausias pasiūlymas   |   Dienai |   ct/km |   Greitis |   Atstumas |   Krovimo laikas | Nuoroda                                                                                                           |\n",
    "|---:|:------------|:-----------------------------|:------------------------|---------:|--------:|----------:|-----------:|-----------------:|:------------------------------------------------------------------------------------------------------------------|\n",
    "|  0 | Paspirtukas | Ninebot G30 MAX              | 100€ / mėn              |     3.33 |    5.12 |        30 |         65 |              6   | [Link](https://rideme.lt/)                                                                                        |\n",
    "|  1 | Paspirtukas | Ninebot MAX G30              | 100€ / mėn              |     3.33 |    5.12 |        30 |         65 |              6   | [Link](https://www.dalinuosi.lt/dviraciu-paspirtuku-nuoma/vilnius/ninebot-max-g30-elektrinis-paspirtukai-14655)   |\n",
    "|  2 | Paspirtukas | Xiaomi ninebot ES4           | 70€ / mėn               |     2.33 |    5.18 |        30 |         45 |              7   | [Link](https://www.dalinuosi.lt/dviraciu-paspirtuku-nuoma/vilnius/paspirtukas-xiaomi-ninebot-es4-22313)           |\n",
    "|  3 | Dviratis    | Fiido L3                     | 80€ / sav               |    11.43 |    5.72 |        40 |        200 |               | [Link](https://zaiskit.lt/elektriniu-paspirtuku-nuoma-vilniuje)                                                   |\n",
    "|  4 | Paspirtukas | XIAOMI MI Pro 2              | 80€ / mėn               |     2.67 |    5.93 |        25 |         45 |              8.5 | [Link](https://www.dalinuosi.lt/dviraciu-paspirtuku-nuoma/vilnius/elektrinis-paspirtukas-xiaomi-mi-pro-2-19848)   |\n",
    "|  5 | Paspirtukas | Ninebot MAX G30              | 120€ / mėn              |     4    |    6.15 |        25 |         65 |              6   | [Link](https://www.rentebike.lt/elektriniai-nuomai)                                                               |\n",
    "|  6 | Dviratis    | Fiido kurjeriams             | 280€ / mėn              |     9.33 |    6.22 |        25 |        150 |               | [Link](https://www.shift.lt/puslapis/15-elektriniu-paspirtuku-ir-elektriniu-dviraciu-nuoma)                       |\n",
    "|  7 | Dviratis    | Fiido Kurjeriams             | 280€ / mėn              |     9.33 |    6.22 |        25 |        150 |               | [Link](https://www.rentebike.lt/elektriniai-nuomai)                                                               |\n",
    "|  8 | Dviratis    | Scott Aspect                 | 90€ / sav               |    12.86 |    6.43 |        25 |        200 |               | [Link](https://www.rentebike.lt/elektriniai-nuomai)                                                               |\n",
    "|  9 | Paspirtukas | Ninebot MAX G30              | 130€ / mėn              |     4.33 |    6.66 |        30 |         65 |              6   | [Link](https://www.shift.lt/puslapis/15-elektriniu-paspirtuku-ir-elektriniu-dviraciu-nuoma)                       |\n",
    "| 10 | Paspirtukas | Ninebot MAX RANGE            | 250€ / mėn              |     8.33 |    6.94 |        25 |        120 |               | [Link](https://www.rentebike.lt/elektriniai-nuomai)                                                               |\n",
    "| 11 | Paspirtukas | Xiaomi m365 Pro2             | 100€ / mėn              |     3.33 |    7.4  |        25 |         45 |              8.5 | [Link](https://www.dalinuosi.lt/dviraciu-paspirtuku-nuoma/vilnius/xiaomi-m365-pro2-24475)                         |\n",
    "| 12 | Paspirtukas | Cityway Max 10″ 500W         | 151€ / mėn              |     5.03 |    7.74 |        30 |         65 |              6   | [Link](https://nopedalsrent.lt/product/elektrinio-paspirtuko-ninebot-max-g30le-nuoma/)                            |\n",
    "| 13 | Paspirtukas | Xiaomi mi 1S                 | 70€ / mėn               |     2.33 |    7.77 |        25 |         30 |              5   | [Link](https://www.dalinuosi.lt/dviraciu-paspirtuku-nuoma/vilnius/xiaomi-mi-1s-elektrinis-paspirtukas-16003)      |\n",
    "| 14 | Paspirtukas | Xiaomi 4 Lite                | 49€ / mėn               |     1.63 |    8.15 |        25 |         20 |              5   | [Link](https://www.dalinuosi.lt/dviraciu-paspirtuku-nuoma/vilnius/xiaomi-elektrinis-paspirtukas-4-lite-25228)     |\n",
    "| 15 | Paspirtukas | XIAOMI 4                     | 89€ / mėn               |     2.97 |    8.49 |        25 |         35 |              5   | [Link](https://www.dalinuosi.lt/dviraciu-paspirtuku-nuoma/vilnius/elektrinis-paspirtukas-xiaomi-4-25227)          |\n",
    "| 16 | Paspirtukas | Xiaomi M365 1S               | 70€ / mėn               |     2.33 |    8.63 |        25 |         27 |              5   | [Link](https://www.dalinuosi.lt/dviraciu-paspirtuku-nuoma/vilnius/xiaomi-m365-1s-elektrinis-paspirtukas-9799)     |\n",
    "| 17 | Dviratis    | FAT                          | 130€ / mėn              |     4.33 |    8.66 |        45 |         50 |               | [Link](https://www.dalinuosi.lt/dviraciu-paspirtuku-nuoma/vilnius/elektrinis-fat-dviratis-27451)                  |\n",
    "| 18 | Paspirtukas | Ninebot Max G30              | 40€ / sav               |     5.71 |    8.78 |        30 |         65 |              6   | [Link](https://zaiskit.lt/elektriniu-paspirtuku-nuoma-vilniuje)                                                   |\n",
    "| 19 | Paspirtukas | XIAOMI Mi Pro 2              | 120€ / mėn              |     4    |    8.89 |        25 |         45 |              8.5 | [Link](https://www.dalinuosi.lt/dviraciu-paspirtuku-nuoma/vilnius/elektrinis-paspirtukas-xiaomi-mi-pro-2-21150)   |\n",
    "| 20 | Dviratis    | White e trecking             | 85€ / sav               |    12.14 |    9.34 |        25 |        130 |               | [Link](https://www.rentebike.lt/elektriniai-nuomai)                                                               |\n",
    "| 21 | Paspirtukas | Ninebot MAX G2               | 200€ / mėn              |     6.67 |    9.53 |        25 |         70 |              6   | [Link](https://www.rentebike.lt/elektriniai-nuomai)                                                               |\n",
    "| 22 | Paspirtukas | Ninebot Max G2               | 200€ / mėn              |     6.67 |    9.53 |        30 |         70 |              6   | [Link](https://www.dalinuosi.lt/dviraciu-paspirtuku-nuoma/vilnius/ninebot-max-g2-26371)                           |\n",
    "| 23 | Paspirtukas | XIAOMI MI 365                | 80€ / mėn               |     2.67 |    9.89 |        25 |         27 |              4.5 | [Link](https://www.dalinuosi.lt/dviraciu-paspirtuku-nuoma/vilnius/elektrinis-paspirtukas-xiaomi-mi-365-22629)     |\n",
    "| 24 | Paspirtukas | Ninebot MAX G30              | 45€ / sav               |     6.43 |    9.89 |        30 |         65 |              6   | [Link](https://www.dalinuosi.lt/dviraciu-paspirtuku-nuoma/vilnius/ninebot-max-g30-elektriniai-paspirtukai-15016)  |\n",
    "| 25 | Paspirtukas | XIAOMI MI 365                | 80€ / mėn               |     2.67 |    9.89 |        25 |         27 |              4.5 | [Link](https://www.dalinuosi.lt/dviraciu-paspirtuku-nuoma/vilnius/elektrinis-paspirtukas-xiaomi-mi-365-16422)     |\n",
    "| 26 | Dviratis    | Fiido D4s Pro                | 65€ / sav               |     9.29 |   10.32 |        35 |         90 |               | [Link](https://zaiskit.lt/elektriniu-paspirtuku-nuoma-vilniuje)                                                   |\n",
    "| 27 | Paspirtukas | Segway Kickscooter ES        | 80€ / mėn               |     2.67 |   10.68 |        25 |         25 |              3.5 | [Link](https://www.dalinuosi.lt/dviraciu-paspirtuku-nuoma/vilnius/ninebot-by-segway-es2-el-paspirtukas-19217)     |\n",
    "| 28 | Paspirtukas | Ninebot by Segway ES1        | 80€ / mėn               |     2.67 |   10.68 |        20 |         25 |              3.5 | [Link](https://www.dalinuosi.lt/dviraciu-paspirtuku-nuoma/vilnius/ninebot-by-segway-es1-el-paspirtukas-15811)     |\n",
    "| 29 | Paspirtukas | Segway Kickscooter ES        | 80€ / mėn               |     2.67 |   10.68 |        25 |         25 |              3.5 | [Link](https://www.dalinuosi.lt/dviraciu-paspirtuku-nuoma/vilnius/ninebot-by-segway-kickscooter-es-18760)         |\n",
    "| 30 | Dviratis    | Bulls                        | 70€ / sav               |    10    |   11.11 |        25 |         90 |               | [Link](https://www.rentebike.lt/elektriniai-nuomai)                                                               |\n",
    "| 31 | Paspirtukas | Xiaomi Pro2                  | 150€ / mėn              |     5    |   11.11 |        25 |         45 |              8.5 | [Link](https://www.dalinuosi.lt/dviraciu-paspirtuku-nuoma/vilnius/xiaomi-pro-2-elektrinis-paspirtukas-21898)      |\n",
    "| 32 | Paspirtukas | Xiaomi Pro2                  | 35€ / sav               |     5    |   11.11 |        25 |         45 |              8.5 | [Link](https://www.dalinuosi.lt/dviraciu-paspirtuku-nuoma/vilnius/paspirtukas-xiaomi-pro-2-21080)                 |\n",
    "| 33 | Dviratis    | Fiido T1 PRO                 | 120€ / sav              |    17.14 |   11.43 |        45 |        150 |               | [Link](https://www.rentebike.lt/elektriniai-nuomai)                                                               |\n",
    "| 34 | Paspirtukas | E-Twow GT                    | 180€ / mėn              |     6    |   12    |        45 |         50 |              4   | [Link](https://www.dalinuosi.lt/dviraciu-paspirtuku-nuoma/vilnius/e-twow-gt-paspirtukas-2022-15792)               |\n",
    "| 35 | Traktorius  | Vokbike                      | 369€ / mėn              |    12.3  |   12.3  |        25 |        100 |               | [Link](https://vokbikes.com/slots-prices-vilnius/)                                                                |\n",
    "| 36 | Paspirtukas | Ninebot MAX Range            | 240€ / mėn              |     8    |   12.31 |        25 |         65 |              9   | [Link](https://www.shift.lt/puslapis/15-elektriniu-paspirtuku-ir-elektriniu-dviraciu-nuoma)                       |\n",
    "| 37 | Paspirtukas | Xiaomi Mi M365               | 100€ / mėn              |     3.33 |   12.33 |        25 |         27 |              4.5 | [Link](https://www.dalinuosi.lt/dviraciu-paspirtuku-nuoma/vilnius/paspirtuko-nuoma-xiaomi-mi-m365-20868)          |\n",
    "| 38 | Paspirtukas | Ninebot MAX G30LE            | 151€ / mėn              |     5.03 |   12.58 |        25 |         40 |              6.5 | [Link](https://nopedalsrent.lt/product/elektrinio-paspirtuko-ninebot-max-g30le-nuoma/)                            |\n",
    "| 39 | Dviratis    | Merinda                      | 65€ / sav               |     9.29 |   13.27 |        25 |         70 |               | [Link](https://www.dalinuosi.lt/dviraciu-paspirtuku-nuoma/vilnius/merida-elektrinis-dviratis-24311)               |\n",
    "| 40 | Paspirtukas | XIAOMI Mi 3                  | 120€ / mėn              |     4    |   13.33 |        25 |         30 |              5   | [Link](https://www.dalinuosi.lt/dviraciu-paspirtuku-nuoma/vilnius/xiaomi-mi-3-el-paspirtukas-22202)               |\n",
    "| 41 | Paspirtukas | XIAOMI Mi Pro 2              | 180€ / mėn              |     6    |   13.33 |        25 |         45 |              8.5 | [Link](https://www.dalinuosi.lt/dviraciu-paspirtuku-nuoma/vilnius/elektrinis-paspirtukas-xiaomi-mi-pro-2-21151)   |\n",
    "| 42 | Vienaratis  | Kingsong KS-14D              | 120€ / mėn              |     4    |   13.33 |        22 |         30 |              3.5 | [Link](https://www.dalinuosi.lt/dviraciu-paspirtuku-nuoma/vilnius/vienaratis-kingsong-ks-14d-22198)               |\n",
    "| 43 | Paspirtukas | Ninebot ES                   | 60€ / mėn               |     2    |   13.33 |        25 |         15 |              3.5 | [Link](https://www.rentebike.lt/elektriniai-nuomai)                                                               |\n",
    "| 44 | Dviratis    | Custom MB                    | 120€ / sav              |    17.14 |   14.28 |        45 |        120 |               | [Link](https://www.rentebike.lt/elektriniai-nuomai)                                                               |\n",
    "| 45 | Dviratis    | Himo Z20                     | 50€ / sav               |     7.14 |   14.28 |        25 |         50 |               | [Link](https://www.rentebike.lt/elektriniai-nuomai)                                                               |\n",
    "| 46 | Dviratis    | Fiido 4S                     | 50€ / sav               |     7.14 |   14.28 |        25 |         50 |               | [Link](https://www.rentebike.lt/elektriniai-nuomai)                                                               |\n",
    "| 47 | Paspirtukas | Inokim OXO                   | 120€ / sav              |    17.14 |   14.28 |        52 |        120 |               | [Link](https://www.rentebike.lt/elektriniai-nuomai)                                                               |\n",
    "| 48 | Dviratis    | Fiido Q2                     | 100€ / sav              |    14.29 |   14.29 |        45 |        100 |               | [Link](https://www.rentebike.lt/elektriniai-nuomai)                                                               |\n",
    "| 49 | Paspirtukas | M365 Pro                     | 45€ / sav               |     6.43 |   14.29 |        30 |         45 |              8.5 | [Link](https://www.dalinuosi.lt/dviraciu-paspirtuku-nuoma/vilnius/m365-pro-elektrinis-paspirtukas-12554)          |\n",
    "| 50 | Paspirtukas | Ninebot Max G2               | 65€ / sav               |     9.29 |   14.29 |        35 |         65 |              6   | [Link](https://zaiskit.lt/elektriniu-paspirtuku-nuoma-vilniuje)                                                   |\n",
    "| 51 | Paspirtukas | Xiaomi M365 1S               | 30€ / sav               |     4.29 |   14.3  |        25 |         30 |              5   | [Link](https://zaiskit.lt/elektriniu-paspirtuku-nuoma-vilniuje)                                                   |\n",
    "| 52 | Paspirtukas | Segway                       | 110€ / mėn              |     3.67 |   14.68 |        25 |         25 |              4   | [Link](https://www.dalinuosi.lt/dviraciu-paspirtuku-nuoma/vilnius/elektrinis-paspirtukas-segway-11798)            |\n",
    "| 53 | Paspirtukas | XIAOMI MI 365                | 120€ / mėn              |     4    |   14.81 |        25 |         27 |              4.5 | [Link](https://www.dalinuosi.lt/dviraciu-paspirtuku-nuoma/vilnius/xiaomi-mi-365-elektrinis-paspirtukas-18841)     |\n",
    "| 54 | Paspirtukas | Mi Electric Scooter Pro2     | 200€ / mėn              |     6.67 |   14.82 |        25 |         45 |              5   | [Link](https://www.dalinuosi.lt/dviraciu-paspirtuku-nuoma/vilnius/paspirtukas-45km-galingas-pro2-21675)           |\n",
    "| 55 | Paspirtukas | Mi Electric Scooter Pro2     | 200€ / mėn              |     6.67 |   14.82 |        25 |         45 |              5   | [Link](https://www.dalinuosi.lt/dviraciu-paspirtuku-nuoma/vilnius/elektrinis-paspirtukas-21676)                   |\n",
    "| 56 | Paspirtukas | Xiaomi M365 Pro              | 200€ / mėn              |     6.67 |   14.82 |        25 |         45 |              8.5 | [Link](https://www.dalinuosi.lt/dviraciu-paspirtuku-nuoma/vilnius/elektrinis-paspirtukas-xiaomi-m365-pro-15430)   |\n",
    "| 57 | Dviratis    | Dviratis HIMO Z20            | 190€ / mėn              |     6.33 |   15.82 |        25 |         40 |              5   | [Link](https://www.dalinuosi.lt/dviraciu-paspirtuku-nuoma/vilnius/elektrinis-dviratis-himo-z20-25843)             |\n",
    "| 58 | Dviratis    | Fiido D4s                    | 190€ / mėn              |     6.33 |   15.82 |        30 |         40 |               | [Link](https://www.dalinuosi.lt/dviraciu-paspirtuku-nuoma/vilnius/dviratis-elektrinis-fiido-d4s-pro-3-vnt-21346)  |\n",
    "| 59 | Dviratis    | Downhill                     | 500€ / mėn              |    16.67 |   16.67 |        55 |        100 |               | [Link](https://www.dalinuosi.lt/dviraciu-paspirtuku-nuoma/vilnius/elektrinis-downhill-dviratis-mopedas-26380)     |\n",
    "| 60 | Paspirtukas | Ninebot P100                 | 120€ / sav              |    17.14 |   17.14 |        48 |        100 |              7   | [Link](https://www.rentebike.lt/elektriniai-nuomai)                                                               |\n",
    "| 61 | Dviratis    | Engwe EP-2PRO                | 90€ / sav               |    12.86 |   18.37 |        35 |         70 |               | [Link](https://www.rentebike.lt/elektriniai-nuomai)                                                               |\n",
    "| 62 | Paspirtukas | Maserati                     | 140€ / mėn              |     4.67 |   18.68 |        25 |         25 |              4.5 | [Link](https://www.dalinuosi.lt/dviraciu-paspirtuku-nuoma/vilnius/elektrinis-paspirtukas-maserati-24511)          |\n",
    "| 63 | Dviratis    | KROSS Trans Hybrid D28 M     | 600€ / mėn              |    20    |   20    |        45 |        100 |               | [Link](https://www.dalinuosi.lt/dviraciu-paspirtuku-nuoma/vilnius/kross-trans-hybrid-d28-m-el-dviratis-22455)     |\n",
    "| 64 | Dviratis    | ADO A20F Beast               | 249€ / mėn              |     8.3  |   20.75 |        25 |         40 |              4.5 | [Link](https://www.dalinuosi.lt/dviraciu-paspirtuku-nuoma/vilnius/elektrinis-dviratis-ado-a20f-beast-25214)       |\n",
    "| 65 | Paspirtukas | Xiaomi M365                  | 40€ / sav               |     5.71 |   21.15 |        25 |         27 |              4.5 | [Link](https://www.dalinuosi.lt/dviraciu-paspirtuku-nuoma/vilnius/xiaomi-m365-elektrinis-paspirtukas-9976)        |\n",
    "| 66 | Dviratis    | Fiido D4s sulankstomas       | 260€ / mėn              |     8.67 |   21.68 |        35 |         40 |               | [Link](https://www.dalinuosi.lt/dviraciu-paspirtuku-nuoma/vilnius/elektriniai-dviraciai-fiido-d4s-sulankst-16235) |\n",
    "| 67 | Paspirtukas | Inokim OX                    | 300€ / mėn              |    10    |   21.74 |        25 |         46 |              7   | [Link](https://www.dalinuosi.lt/dviraciu-paspirtuku-nuoma/vilnius/inokim-ox-19268)                                |\n",
    "| 68 | Dviratis    | DUOTTS C29                   | 80€ / sav               |    11.43 |   22.86 |        45 |         50 |               | [Link](https://www.rentebike.lt/elektriniai-nuomai)                                                               |\n",
    "| 69 | Paspirtukas | Xiaomi Pro2                  | 80€ / sav               |    11.43 |   25.4  |        25 |         45 |              8.5 | [Link](https://www.dalinuosi.lt/dviraciu-paspirtuku-nuoma/vilnius/xiomi-pro2-26100)                               |\n",
    "| 70 | Dviratis    | KTM                          | 100€ / sav              |    14.29 |   25.98 |        25 |         55 |               | [Link](https://www.dalinuosi.lt/dviraciu-paspirtuku-nuoma/vilnius/ktm-el-dviratis-26008)                          |\n",
    "| 71 | Paspirtukas | Inokim Ox Hero               | 400€ / mėn              |    13.33 |   26.66 |        45 |         50 |              7   | [Link](https://www.dalinuosi.lt/dviraciu-paspirtuku-nuoma/vilnius/inokim-ox-hero-26099)                           |\n",
    "| 72 | Paspirtukas | Xiaomi M365 Pro              | 12€ / 24h               |    12    |   26.67 |        25 |         45 |              8.5 | [Link](https://www.dalinuosi.lt/dviraciu-paspirtuku-nuoma/vilnius/xiaomi-m365-pro-galimas-pristatymas-15335)      |\n",
    "| 73 | Dviratis    | Haibike Xduro RS FS          | 600€ / mėn              |    20    |   28.57 |        45 |         70 |               | [Link](https://www.dalinuosi.lt/dviraciu-paspirtuku-nuoma/vilnius/elektrinis-dviratis-haibike-xduro-rs-fs-5835)   |\n",
    "| 74 | Riedlentė   | Longboard                    | 42€ / sav               |     6    |   30    |        35 |         20 |              3   | [Link](https://www.dalinuosi.lt/dviraciu-paspirtuku-nuoma/vilnius/riedlente-elektrine-longboard-35km-h-18477)     |\n",
    "| 75 | Riedis      | Riedis                       | 70€ / mėn               |     2.33 |   33.29 |         8 |          7 |              5   | [Link](https://www.dalinuosi.lt/dviraciu-paspirtuku-nuoma/vilnius/riedis-26619)                                   |\n",
    "| 76 | Paspirtukas | Dualtron Mini Pro 17.5ah     | 600€ / mėn              |    20    |   36.36 |        45 |         55 |              8   | [Link](https://www.dalinuosi.lt/dviraciu-paspirtuku-nuoma/vilnius/dualtron-mini-pro-17-5ah-21337)                 |\n",
    "| 77 | Dviratis    | EBike su Bosch               | 90€ / sav               |    12.86 |   36.74 |        45 |         35 |               | [Link](https://rideme.lt/)                                                                                        |\n",
    "| 78 | Dviratis    | Kalnu E MTB Elektrinis Bosch | 100€ / sav              |    14.29 |   40.83 |        45 |         35 |               | [Link](https://www.dalinuosi.lt/dviraciu-paspirtuku-nuoma/vilnius/kalnu-e-mtb-elektrinis-dviratis-bosch-19566)    |\n",
    "| 79 | Dviratis    | Kalnu E MTB Elektrinis       | 150€ / sav              |    21.43 |   61.23 |        45 |         35 |               | [Link](https://www.dalinuosi.lt/dviraciu-paspirtuku-nuoma/vilnius/kalnu-e-mtb-elektrinis-dviratis-rent-19565)     |\n",
    "| 80 | Dviratis    | Kalnu E MTB Fulas            | 200€ / sav              |    28.57 |   71.42 |        45 |         40 |               | [Link](https://www.dalinuosi.lt/dviraciu-paspirtuku-nuoma/vilnius/kalnu-e-mtb-fulas-elektrinis-dviratis-26417)    |"
   ]
  },
  {
   "cell_type": "markdown",
   "metadata": {
    "tags": [
     "user"
    ]
   },
   "source": [
    "## Korekcija paspirtukams\n",
    "Atkreipiame dėmesį, kad dauguma paspirtukų gamintojų nurodo atstumą važiuojant 20 - 25km/h greičiu 70kg žmogui, kuris smarkiai skiriasi nuo to, kurį nurodo nuomotojai. \n",
    "\n",
    "Keli faktai:\n",
    "* Ninebot ES4 [nurodytas atstumas](https://www.dalinuosi.lt/dviraciu-paspirtuku-nuoma/vilnius/paspirtukas-xiaomi-ninebot-es4-22313) yra 45km, bet 75kg žmogus važiuodamas maksimaliu greičiu [nuvažiavo tik 26km](https://www.youtube.com/watch?v=VCJ0uFHr5vc). \n",
    "* Ninebot MAX G30 realūs atstumai [86kg žmogui](https://www.youtube.com/watch?v=gUt1sxHjGhs): (\"S\" Mode: 26.2 km, \"D\" Mode: 31.9 km, Eco Mode: 43.4 km), nors [rideme.lt](rideme.lt) nurodo, kad Ninebot G30 MAX viena įkrova nurieda 30-65 km priklausomai nuo aplinkybių. \n",
    "* Metus naudotu Xiaomi Mi Pro 2 90kg žmogus [nuvažiavo tik 23km](https://www.youtube.com/watch?v=nH5bwBJMOuE) vietoje [nurodytų 45km](https://www.dalinuosi.lt/dviraciu-paspirtuku-nuoma/vilnius/paspirtukas-xiaomi-ninebot-es4-22313)\n",
    "* [rideme.lt](rideme.lt) skelbia, kad negali pasiūlyti Xiaomi M365 PRO paspirtukų nuomai, dėl itin mažo jo įveikiamo atstumo ir dažnų gedimų. Taip pat pažymi, kad jis įveikia 50% didesnį atstumą už Xiaomi M365 ir yra 20% galingesnis.\n",
    "\n",
    "**Atsižvelgiant į tai, visus lentelėje nurodytus paspirtukų atstumus sumažinsime 45%**\n",
    "\n",
    "Dviračiams atstumų nemažinsime, bet reikia turėti mintyje, kad pateikti atstumai taip pat greičiausiai nebus realistiniai.\n",
    "\n",
    "Po korekcijos išrikiuoti duomenys atrodo taip:"
   ]
  },
  {
   "cell_type": "code",
   "execution_count": null,
   "metadata": {
    "tags": [
     "dev"
    ]
   },
   "outputs": [],
   "source": [
    "df_display = df[['Priemonė','Modelis','Greitis','Atstumas','Krovimo laikas','Nuoroda']].copy()\n",
    "idxs, cols = pd.factorize((df[['Kaina 24h','Kaina sav','Kaina mėn']]/[1,7,30]).idxmin(axis=1))\n",
    "val_names = [x[-3:] for x in cols[idxs]]\n",
    "val = df.reindex(cols, axis=1).to_numpy()[np.arange(len(df)), idxs].astype(int)\n",
    "val_rate = (df[['Kaina 24h','Kaina sav','Kaina mėn']]/[1,7,30]).min(axis=1).round(2).tolist()\n",
    "best_offer = [f'{x}€ / {y}' for x,y in zip(val, val_names)]\n",
    "df_display.loc[df_display['Priemonė']=='Paspirtukas', 'Atstumas'] = \\\n",
    "(df_display.loc[df_display['Priemonė']=='Paspirtukas', 'Atstumas'] * 0.55).round()\n",
    "df_display.insert(2, 'Geriausias pasiūlymas',best_offer)\n",
    "df_display.insert(3, 'Dienai', val_rate)\n",
    "df_display.insert(4, 'ct/km', (100*df_display['Dienai']/df_display['Atstumas']).round(2))\n",
    "df_display = df_display.sort_values(by='ct/km').reset_index(drop=True)\n",
    "print(df_display.to_markdown().replace('nan', ''))"
   ]
  },
  {
   "cell_type": "markdown",
   "metadata": {
    "tags": [
     "user"
    ]
   },
   "source": [
    "|    | Priemonė    | Modelis                      | Geriausias pasiūlymas   |   Dienai |   ct/km |   Greitis |   Atstumas |   Krovimo laikas | Nuoroda                                                                                                           |\n",
    "|---:|:------------|:-----------------------------|:------------------------|---------:|--------:|----------:|-----------:|-----------------:|:------------------------------------------------------------------------------------------------------------------|\n",
    "|  0 | Dviratis    | Fiido L3                     | 80€ / sav               |    11.43 |    5.72 |        40 |        200 |               | [Link](https://zaiskit.lt/elektriniu-paspirtuku-nuoma-vilniuje)                                                   |\n",
    "|  1 | Dviratis    | Fiido Kurjeriams             | 280€ / mėn              |     9.33 |    6.22 |        25 |        150 |               | [Link](https://www.rentebike.lt/elektriniai-nuomai)                                                               |\n",
    "|  2 | Dviratis    | Fiido kurjeriams             | 280€ / mėn              |     9.33 |    6.22 |        25 |        150 |               | [Link](https://www.shift.lt/puslapis/15-elektriniu-paspirtuku-ir-elektriniu-dviraciu-nuoma)                       |\n",
    "|  3 | Dviratis    | Scott Aspect                 | 90€ / sav               |    12.86 |    6.43 |        25 |        200 |               | [Link](https://www.rentebike.lt/elektriniai-nuomai)                                                               |\n",
    "|  4 | Dviratis    | FAT                          | 130€ / mėn              |     4.33 |    8.66 |        45 |         50 |               | [Link](https://www.dalinuosi.lt/dviraciu-paspirtuku-nuoma/vilnius/elektrinis-fat-dviratis-27451)                  |\n",
    "|  5 | Paspirtukas | Ninebot MAX G30              | 100€ / mėn              |     3.33 |    9.25 |        30 |         36 |              6   | [Link](https://www.dalinuosi.lt/dviraciu-paspirtuku-nuoma/vilnius/ninebot-max-g30-elektrinis-paspirtukai-14655)   |\n",
    "|  6 | Paspirtukas | Ninebot G30 MAX              | 100€ / mėn              |     3.33 |    9.25 |        30 |         36 |              6   | [Link](https://rideme.lt/)                                                                                        |\n",
    "|  7 | Paspirtukas | Xiaomi ninebot ES4           | 70€ / mėn               |     2.33 |    9.32 |        30 |         25 |              7   | [Link](https://www.dalinuosi.lt/dviraciu-paspirtuku-nuoma/vilnius/paspirtukas-xiaomi-ninebot-es4-22313)           |\n",
    "|  8 | Dviratis    | White e trecking             | 85€ / sav               |    12.14 |    9.34 |        25 |        130 |               | [Link](https://www.rentebike.lt/elektriniai-nuomai)                                                               |\n",
    "|  9 | Dviratis    | Fiido D4s Pro                | 65€ / sav               |     9.29 |   10.32 |        35 |         90 |               | [Link](https://zaiskit.lt/elektriniu-paspirtuku-nuoma-vilniuje)                                                   |\n",
    "| 10 | Paspirtukas | XIAOMI MI Pro 2              | 80€ / mėn               |     2.67 |   10.68 |        25 |         25 |              8.5 | [Link](https://www.dalinuosi.lt/dviraciu-paspirtuku-nuoma/vilnius/elektrinis-paspirtukas-xiaomi-mi-pro-2-19848)   |\n",
    "| 11 | Dviratis    | Bulls                        | 70€ / sav               |    10    |   11.11 |        25 |         90 |               | [Link](https://www.rentebike.lt/elektriniai-nuomai)                                                               |\n",
    "| 12 | Paspirtukas | Ninebot MAX G30              | 120€ / mėn              |     4    |   11.11 |        25 |         36 |              6   | [Link](https://www.rentebike.lt/elektriniai-nuomai)                                                               |\n",
    "| 13 | Dviratis    | Fiido T1 PRO                 | 120€ / sav              |    17.14 |   11.43 |        45 |        150 |               | [Link](https://www.rentebike.lt/elektriniai-nuomai)                                                               |\n",
    "| 14 | Paspirtukas | Ninebot MAX G30              | 130€ / mėn              |     4.33 |   12.03 |        30 |         36 |              6   | [Link](https://www.shift.lt/puslapis/15-elektriniu-paspirtuku-ir-elektriniu-dviraciu-nuoma)                       |\n",
    "| 15 | Traktorius  | Vokbike                      | 369€ / mėn              |    12.3  |   12.3  |        25 |        100 |               | [Link](https://vokbikes.com/slots-prices-vilnius/)                                                                |\n",
    "| 16 | Paspirtukas | Ninebot MAX RANGE            | 250€ / mėn              |     8.33 |   12.62 |        25 |         66 |               | [Link](https://www.rentebike.lt/elektriniai-nuomai)                                                               |\n",
    "| 17 | Dviratis    | Merinda                      | 65€ / sav               |     9.29 |   13.27 |        25 |         70 |               | [Link](https://www.dalinuosi.lt/dviraciu-paspirtuku-nuoma/vilnius/merida-elektrinis-dviratis-24311)               |\n",
    "| 18 | Paspirtukas | Xiaomi m365 Pro2             | 100€ / mėn              |     3.33 |   13.32 |        25 |         25 |              8.5 | [Link](https://www.dalinuosi.lt/dviraciu-paspirtuku-nuoma/vilnius/xiaomi-m365-pro2-24475)                         |\n",
    "| 19 | Vienaratis  | Kingsong KS-14D              | 120€ / mėn              |     4    |   13.33 |        22 |         30 |              3.5 | [Link](https://www.dalinuosi.lt/dviraciu-paspirtuku-nuoma/vilnius/vienaratis-kingsong-ks-14d-22198)               |\n",
    "| 20 | Paspirtukas | Cityway Max 10″ 500W         | 151€ / mėn              |     5.03 |   13.97 |        30 |         36 |              6   | [Link](https://nopedalsrent.lt/product/elektrinio-paspirtuko-ninebot-max-g30le-nuoma/)                            |\n",
    "| 21 | Dviratis    | Fiido 4S                     | 50€ / sav               |     7.14 |   14.28 |        25 |         50 |               | [Link](https://www.rentebike.lt/elektriniai-nuomai)                                                               |\n",
    "| 22 | Dviratis    | Custom MB                    | 120€ / sav              |    17.14 |   14.28 |        45 |        120 |               | [Link](https://www.rentebike.lt/elektriniai-nuomai)                                                               |\n",
    "| 23 | Dviratis    | Himo Z20                     | 50€ / sav               |     7.14 |   14.28 |        25 |         50 |               | [Link](https://www.rentebike.lt/elektriniai-nuomai)                                                               |\n",
    "| 24 | Dviratis    | Fiido Q2                     | 100€ / sav              |    14.29 |   14.29 |        45 |        100 |               | [Link](https://www.rentebike.lt/elektriniai-nuomai)                                                               |\n",
    "| 25 | Paspirtukas | Xiaomi mi 1S                 | 70€ / mėn               |     2.33 |   14.56 |        25 |         16 |              5   | [Link](https://www.dalinuosi.lt/dviraciu-paspirtuku-nuoma/vilnius/xiaomi-mi-1s-elektrinis-paspirtukas-16003)      |\n",
    "| 26 | Paspirtukas | Xiaomi 4 Lite                | 49€ / mėn               |     1.63 |   14.82 |        25 |         11 |              5   | [Link](https://www.dalinuosi.lt/dviraciu-paspirtuku-nuoma/vilnius/xiaomi-elektrinis-paspirtukas-4-lite-25228)     |\n",
    "| 27 | Paspirtukas | Xiaomi M365 1S               | 70€ / mėn               |     2.33 |   15.53 |        25 |         15 |              5   | [Link](https://www.dalinuosi.lt/dviraciu-paspirtuku-nuoma/vilnius/xiaomi-m365-1s-elektrinis-paspirtukas-9799)     |\n",
    "| 28 | Paspirtukas | XIAOMI 4                     | 89€ / mėn               |     2.97 |   15.63 |        25 |         19 |              5   | [Link](https://www.dalinuosi.lt/dviraciu-paspirtuku-nuoma/vilnius/elektrinis-paspirtukas-xiaomi-4-25227)          |\n",
    "| 29 | Dviratis    | Dviratis HIMO Z20            | 190€ / mėn              |     6.33 |   15.82 |        25 |         40 |              5   | [Link](https://www.dalinuosi.lt/dviraciu-paspirtuku-nuoma/vilnius/elektrinis-dviratis-himo-z20-25843)             |\n",
    "| 30 | Dviratis    | Fiido D4s                    | 190€ / mėn              |     6.33 |   15.82 |        30 |         40 |               | [Link](https://www.dalinuosi.lt/dviraciu-paspirtuku-nuoma/vilnius/dviratis-elektrinis-fiido-d4s-pro-3-vnt-21346)  |\n",
    "| 31 | Paspirtukas | Ninebot Max G30              | 40€ / sav               |     5.71 |   15.86 |        30 |         36 |              6   | [Link](https://zaiskit.lt/elektriniu-paspirtuku-nuoma-vilniuje)                                                   |\n",
    "| 32 | Paspirtukas | XIAOMI Mi Pro 2              | 120€ / mėn              |     4    |   16    |        25 |         25 |              8.5 | [Link](https://www.dalinuosi.lt/dviraciu-paspirtuku-nuoma/vilnius/elektrinis-paspirtukas-xiaomi-mi-pro-2-21150)   |\n",
    "| 33 | Dviratis    | Downhill                     | 500€ / mėn              |    16.67 |   16.67 |        55 |        100 |               | [Link](https://www.dalinuosi.lt/dviraciu-paspirtuku-nuoma/vilnius/elektrinis-downhill-dviratis-mopedas-26380)     |\n",
    "| 34 | Paspirtukas | Ninebot MAX G2               | 200€ / mėn              |     6.67 |   17.55 |        25 |         38 |              6   | [Link](https://www.rentebike.lt/elektriniai-nuomai)                                                               |\n",
    "| 35 | Paspirtukas | Ninebot Max G2               | 200€ / mėn              |     6.67 |   17.55 |        30 |         38 |              6   | [Link](https://www.dalinuosi.lt/dviraciu-paspirtuku-nuoma/vilnius/ninebot-max-g2-26371)                           |\n",
    "| 36 | Paspirtukas | XIAOMI MI 365                | 80€ / mėn               |     2.67 |   17.8  |        25 |         15 |              4.5 | [Link](https://www.dalinuosi.lt/dviraciu-paspirtuku-nuoma/vilnius/elektrinis-paspirtukas-xiaomi-mi-365-16422)     |\n",
    "| 37 | Paspirtukas | XIAOMI MI 365                | 80€ / mėn               |     2.67 |   17.8  |        25 |         15 |              4.5 | [Link](https://www.dalinuosi.lt/dviraciu-paspirtuku-nuoma/vilnius/elektrinis-paspirtukas-xiaomi-mi-365-22629)     |\n",
    "| 38 | Paspirtukas | Ninebot MAX G30              | 45€ / sav               |     6.43 |   17.86 |        30 |         36 |              6   | [Link](https://www.dalinuosi.lt/dviraciu-paspirtuku-nuoma/vilnius/ninebot-max-g30-elektriniai-paspirtukai-15016)  |\n",
    "| 39 | Dviratis    | Engwe EP-2PRO                | 90€ / sav               |    12.86 |   18.37 |        35 |         70 |               | [Link](https://www.rentebike.lt/elektriniai-nuomai)                                                               |\n",
    "| 40 | Paspirtukas | Ninebot by Segway ES1        | 80€ / mėn               |     2.67 |   19.07 |        20 |         14 |              3.5 | [Link](https://www.dalinuosi.lt/dviraciu-paspirtuku-nuoma/vilnius/ninebot-by-segway-es1-el-paspirtukas-15811)     |\n",
    "| 41 | Paspirtukas | Segway Kickscooter ES        | 80€ / mėn               |     2.67 |   19.07 |        25 |         14 |              3.5 | [Link](https://www.dalinuosi.lt/dviraciu-paspirtuku-nuoma/vilnius/ninebot-by-segway-kickscooter-es-18760)         |\n",
    "| 42 | Paspirtukas | Segway Kickscooter ES        | 80€ / mėn               |     2.67 |   19.07 |        25 |         14 |              3.5 | [Link](https://www.dalinuosi.lt/dviraciu-paspirtuku-nuoma/vilnius/ninebot-by-segway-es2-el-paspirtukas-19217)     |\n",
    "| 43 | Dviratis    | KROSS Trans Hybrid D28 M     | 600€ / mėn              |    20    |   20    |        45 |        100 |               | [Link](https://www.dalinuosi.lt/dviraciu-paspirtuku-nuoma/vilnius/kross-trans-hybrid-d28-m-el-dviratis-22455)     |\n",
    "| 44 | Paspirtukas | Xiaomi Pro2                  | 35€ / sav               |     5    |   20    |        25 |         25 |              8.5 | [Link](https://www.dalinuosi.lt/dviraciu-paspirtuku-nuoma/vilnius/paspirtukas-xiaomi-pro-2-21080)                 |\n",
    "| 45 | Paspirtukas | Xiaomi Pro2                  | 150€ / mėn              |     5    |   20    |        25 |         25 |              8.5 | [Link](https://www.dalinuosi.lt/dviraciu-paspirtuku-nuoma/vilnius/xiaomi-pro-2-elektrinis-paspirtukas-21898)      |\n",
    "| 46 | Dviratis    | ADO A20F Beast               | 249€ / mėn              |     8.3  |   20.75 |        25 |         40 |              4.5 | [Link](https://www.dalinuosi.lt/dviraciu-paspirtuku-nuoma/vilnius/elektrinis-dviratis-ado-a20f-beast-25214)       |\n",
    "| 47 | Paspirtukas | E-Twow GT                    | 180€ / mėn              |     6    |   21.43 |        45 |         28 |              4   | [Link](https://www.dalinuosi.lt/dviraciu-paspirtuku-nuoma/vilnius/e-twow-gt-paspirtukas-2022-15792)               |\n",
    "| 48 | Dviratis    | Fiido D4s sulankstomas       | 260€ / mėn              |     8.67 |   21.68 |        35 |         40 |               | [Link](https://www.dalinuosi.lt/dviraciu-paspirtuku-nuoma/vilnius/elektriniai-dviraciai-fiido-d4s-sulankst-16235) |\n",
    "| 49 | Paspirtukas | Xiaomi Mi M365               | 100€ / mėn              |     3.33 |   22.2  |        25 |         15 |              4.5 | [Link](https://www.dalinuosi.lt/dviraciu-paspirtuku-nuoma/vilnius/paspirtuko-nuoma-xiaomi-mi-m365-20868)          |\n",
    "| 50 | Paspirtukas | Ninebot MAX Range            | 240€ / mėn              |     8    |   22.22 |        25 |         36 |              9   | [Link](https://www.shift.lt/puslapis/15-elektriniu-paspirtuku-ir-elektriniu-dviraciu-nuoma)                       |\n",
    "| 51 | Dviratis    | DUOTTS C29                   | 80€ / sav               |    11.43 |   22.86 |        45 |         50 |               | [Link](https://www.rentebike.lt/elektriniai-nuomai)                                                               |\n",
    "| 52 | Paspirtukas | Ninebot MAX G30LE            | 151€ / mėn              |     5.03 |   22.86 |        25 |         22 |              6.5 | [Link](https://nopedalsrent.lt/product/elektrinio-paspirtuko-ninebot-max-g30le-nuoma/)                            |\n",
    "| 53 | Paspirtukas | XIAOMI Mi Pro 2              | 180€ / mėn              |     6    |   24    |        25 |         25 |              8.5 | [Link](https://www.dalinuosi.lt/dviraciu-paspirtuku-nuoma/vilnius/elektrinis-paspirtukas-xiaomi-mi-pro-2-21151)   |\n",
    "| 54 | Paspirtukas | XIAOMI Mi 3                  | 120€ / mėn              |     4    |   25    |        25 |         16 |              5   | [Link](https://www.dalinuosi.lt/dviraciu-paspirtuku-nuoma/vilnius/xiaomi-mi-3-el-paspirtukas-22202)               |\n",
    "| 55 | Paspirtukas | Ninebot ES                   | 60€ / mėn               |     2    |   25    |        25 |          8 |              3.5 | [Link](https://www.rentebike.lt/elektriniai-nuomai)                                                               |\n",
    "| 56 | Paspirtukas | M365 Pro                     | 45€ / sav               |     6.43 |   25.72 |        30 |         25 |              8.5 | [Link](https://www.dalinuosi.lt/dviraciu-paspirtuku-nuoma/vilnius/m365-pro-elektrinis-paspirtukas-12554)          |\n",
    "| 57 | Paspirtukas | Ninebot Max G2               | 65€ / sav               |     9.29 |   25.81 |        35 |         36 |              6   | [Link](https://zaiskit.lt/elektriniu-paspirtuku-nuoma-vilniuje)                                                   |\n",
    "| 58 | Paspirtukas | Inokim OXO                   | 120€ / sav              |    17.14 |   25.97 |        52 |         66 |               | [Link](https://www.rentebike.lt/elektriniai-nuomai)                                                               |\n",
    "| 59 | Dviratis    | KTM                          | 100€ / sav              |    14.29 |   25.98 |        25 |         55 |               | [Link](https://www.dalinuosi.lt/dviraciu-paspirtuku-nuoma/vilnius/ktm-el-dviratis-26008)                          |\n",
    "| 60 | Paspirtukas | Segway                       | 110€ / mėn              |     3.67 |   26.21 |        25 |         14 |              4   | [Link](https://www.dalinuosi.lt/dviraciu-paspirtuku-nuoma/vilnius/elektrinis-paspirtukas-segway-11798)            |\n",
    "| 61 | Paspirtukas | XIAOMI MI 365                | 120€ / mėn              |     4    |   26.67 |        25 |         15 |              4.5 | [Link](https://www.dalinuosi.lt/dviraciu-paspirtuku-nuoma/vilnius/xiaomi-mi-365-elektrinis-paspirtukas-18841)     |\n",
    "| 62 | Paspirtukas | Xiaomi M365 Pro              | 200€ / mėn              |     6.67 |   26.68 |        25 |         25 |              8.5 | [Link](https://www.dalinuosi.lt/dviraciu-paspirtuku-nuoma/vilnius/elektrinis-paspirtukas-xiaomi-m365-pro-15430)   |\n",
    "| 63 | Paspirtukas | Mi Electric Scooter Pro2     | 200€ / mėn              |     6.67 |   26.68 |        25 |         25 |              5   | [Link](https://www.dalinuosi.lt/dviraciu-paspirtuku-nuoma/vilnius/paspirtukas-45km-galingas-pro2-21675)           |\n",
    "| 64 | Paspirtukas | Mi Electric Scooter Pro2     | 200€ / mėn              |     6.67 |   26.68 |        25 |         25 |              5   | [Link](https://www.dalinuosi.lt/dviraciu-paspirtuku-nuoma/vilnius/elektrinis-paspirtukas-21676)                   |\n",
    "| 65 | Paspirtukas | Xiaomi M365 1S               | 30€ / sav               |     4.29 |   26.81 |        25 |         16 |              5   | [Link](https://zaiskit.lt/elektriniu-paspirtuku-nuoma-vilniuje)                                                   |\n",
    "| 66 | Dviratis    | Haibike Xduro RS FS          | 600€ / mėn              |    20    |   28.57 |        45 |         70 |               | [Link](https://www.dalinuosi.lt/dviraciu-paspirtuku-nuoma/vilnius/elektrinis-dviratis-haibike-xduro-rs-fs-5835)   |\n",
    "| 67 | Riedlentė   | Longboard                    | 42€ / sav               |     6    |   30    |        35 |         20 |              3   | [Link](https://www.dalinuosi.lt/dviraciu-paspirtuku-nuoma/vilnius/riedlente-elektrine-longboard-35km-h-18477)     |\n",
    "| 68 | Paspirtukas | Ninebot P100                 | 120€ / sav              |    17.14 |   31.16 |        48 |         55 |              7   | [Link](https://www.rentebike.lt/elektriniai-nuomai)                                                               |\n",
    "| 69 | Riedis      | Riedis                       | 70€ / mėn               |     2.33 |   33.29 |         8 |          7 |              5   | [Link](https://www.dalinuosi.lt/dviraciu-paspirtuku-nuoma/vilnius/riedis-26619)                                   |\n",
    "| 70 | Paspirtukas | Maserati                     | 140€ / mėn              |     4.67 |   33.36 |        25 |         14 |              4.5 | [Link](https://www.dalinuosi.lt/dviraciu-paspirtuku-nuoma/vilnius/elektrinis-paspirtukas-maserati-24511)          |\n",
    "| 71 | Dviratis    | EBike su Bosch               | 90€ / sav               |    12.86 |   36.74 |        45 |         35 |               | [Link](https://rideme.lt/)                                                                                        |\n",
    "| 72 | Paspirtukas | Xiaomi M365                  | 40€ / sav               |     5.71 |   38.07 |        25 |         15 |              4.5 | [Link](https://www.dalinuosi.lt/dviraciu-paspirtuku-nuoma/vilnius/xiaomi-m365-elektrinis-paspirtukas-9976)        |\n",
    "| 73 | Paspirtukas | Inokim OX                    | 300€ / mėn              |    10    |   40    |        25 |         25 |              7   | [Link](https://www.dalinuosi.lt/dviraciu-paspirtuku-nuoma/vilnius/inokim-ox-19268)                                |\n",
    "| 74 | Dviratis    | Kalnu E MTB Elektrinis Bosch | 100€ / sav              |    14.29 |   40.83 |        45 |         35 |               | [Link](https://www.dalinuosi.lt/dviraciu-paspirtuku-nuoma/vilnius/kalnu-e-mtb-elektrinis-dviratis-bosch-19566)    |\n",
    "| 75 | Paspirtukas | Xiaomi Pro2                  | 80€ / sav               |    11.43 |   45.72 |        25 |         25 |              8.5 | [Link](https://www.dalinuosi.lt/dviraciu-paspirtuku-nuoma/vilnius/xiomi-pro2-26100)                               |\n",
    "| 76 | Paspirtukas | Inokim Ox Hero               | 400€ / mėn              |    13.33 |   47.61 |        45 |         28 |              7   | [Link](https://www.dalinuosi.lt/dviraciu-paspirtuku-nuoma/vilnius/inokim-ox-hero-26099)                           |\n",
    "| 77 | Paspirtukas | Xiaomi M365 Pro              | 12€ / 24h               |    12    |   48    |        25 |         25 |              8.5 | [Link](https://www.dalinuosi.lt/dviraciu-paspirtuku-nuoma/vilnius/xiaomi-m365-pro-galimas-pristatymas-15335)      |\n",
    "| 78 | Dviratis    | Kalnu E MTB Elektrinis       | 150€ / sav              |    21.43 |   61.23 |        45 |         35 |               | [Link](https://www.dalinuosi.lt/dviraciu-paspirtuku-nuoma/vilnius/kalnu-e-mtb-elektrinis-dviratis-rent-19565)     |\n",
    "| 79 | Paspirtukas | Dualtron Mini Pro 17.5ah     | 600€ / mėn              |    20    |   66.67 |        45 |         30 |              8   | [Link](https://www.dalinuosi.lt/dviraciu-paspirtuku-nuoma/vilnius/dualtron-mini-pro-17-5ah-21337)                 |\n",
    "| 80 | Dviratis    | Kalnu E MTB Fulas            | 200€ / sav              |    28.57 |   71.42 |        45 |         40 |               | [Link](https://www.dalinuosi.lt/dviraciu-paspirtuku-nuoma/vilnius/kalnu-e-mtb-fulas-elektrinis-dviratis-26417)    |"
   ]
  },
  {
   "cell_type": "markdown",
   "metadata": {
    "tags": [
     "user"
    ]
   },
   "source": [
    "## Vizualus kainų palyginimas\n",
    "\n",
    "Lentelę pateiksim vizualiai.\n",
    "\n",
    "* $y$ reikšmės atitinka geriausią kainą ct/km, (kaina parai padalinta iš vienu įkrovimu nuvažiuojamo atstumo).\n",
    "* $x$ reikšmės atitinka nuvažiuojamą atstumą\n",
    "* Taško spalva atitinka priemonės rūšį\n",
    "* Taško dydis atitinka greitį"
   ]
  },
  {
   "cell_type": "code",
   "execution_count": null,
   "metadata": {
    "tags": [
     "dev"
    ]
   },
   "outputs": [],
   "source": [
    "import plotly.graph_objects as go\n",
    "\n",
    "def string_decorator(index, priemonė, model, pasiul, \n",
    "                     dienai, ctkm, greitis, atstumas, charge, nuoroda):\n",
    "    rows = [f'KAINA: {round(ctkm,2)}ct/km',\n",
    "            f'{priemonė}: {model} (index: {index})',\n",
    "            f'Geriausias pasiūlymas: {pasiul} ({dienai})',\n",
    "            f'Greitis: {int(greitis)}km/h' if pd.notna(greitis) else None,\n",
    "            f'Atstumas: {int(atstumas)}km' if pd.notna(atstumas) else None,\n",
    "            f'Charge: {int(charge)}h' if pd.notna(charge) else None]\n",
    "    rows = [n for n in rows if n is not None]\n",
    "    return '<br>'.join(rows)\n",
    "\n",
    "brand_coloring = {'Paspirtukas':'green', 'Dviratis':'blue', 'Vienaratis':'purple', \n",
    "                  'Traktorius':'purple', 'Riedlentė':'purple', 'Riedis': 'purple'}\n",
    "\n",
    "y = 100*df_display['Dienai']/df_display['Atstumas']\n",
    "marker_size=10*(df_display['Greitis']/25)\n",
    "\n",
    "fig1 = go.Scatter(x=df_display['Atstumas'], y=y, mode='markers', \n",
    "                  text=[string_decorator(i, *values) for i, values in enumerate(df_display.values)],\n",
    "                  marker_color=[brand_coloring[n] for n in df_display['Priemonė']],\n",
    "                  marker_size=marker_size,\n",
    "                  marker=dict(line=dict(color='black',width=2)),\n",
    "                  hoverinfo='text')\n",
    "    \n",
    "fig = go.Figure(data=[fig1])\n",
    "fig.update_layout(xaxis_title=\"Atstumas\", \n",
    "                  yaxis_title='Kaina centais už km vienam įkrovimui per parą', \n",
    "                  width=1000,\n",
    "                  height=1500)\n",
    "\n",
    "if 'html_plots' not in os.listdir():\n",
    "    os.mkdir('html_plots')\n",
    "    \n",
    "path = f'html_plots/vs_wheel.html'\n",
    "with open(path, \"w\", encoding=\"utf-8\") as f: \n",
    "    f.write(fig.to_html())\n",
    "    \n",
    "fig  "
   ]
  },
  {
   "cell_type": "code",
   "execution_count": 6,
   "metadata": {
    "tags": [
     "user"
    ]
   },
   "outputs": [
    {
     "data": {
      "text/html": [
       "<iframe width=1000 height=500 src=\"./html_plots/vs_wheel.html\" frameborder=\"0\"></iframe>\n"
      ],
      "text/plain": [
       "<IPython.core.display.HTML object>"
      ]
     },
     "metadata": {},
     "output_type": "display_data"
    }
   ],
   "source": [
    "%%HTML\n",
    "<iframe width=1000 height=500 src=\"./html_plots/vs_wheel.html\" frameborder=\"0\"></iframe>"
   ]
  },
  {
   "cell_type": "markdown",
   "metadata": {
    "tags": [
     "user"
    ]
   },
   "source": [
    "## Išvados\n",
    "Jeigu orientuojamės į prieinamas kainas, kurios neviršytų 300€/mėn ir 10ct/km , tai Vilniaus rinkoje lieka tik tokie variantai:\n",
    "* Paspirtukas Xiaomi Ninebot ES4 (70€/mėn, 30km/h, 25km, 9.32ct/km, [Link](https://www.dalinuosi.lt/dviraciu-paspirtuku-nuoma/vilnius/paspirtukas-xiaomi-ninebot-es4-22313))\n",
    "* Paspirtukas Ninebot G30 MAX (100€/mėn, 30km/h, 36km, 9.25ct/km, [Link1](https://www.dalinuosi.lt/dviraciu-paspirtuku-nuoma/vilnius/ninebot-max-g30-elektrinis-paspirtukai-14655), [Link2](https://rideme.lt/))\n",
    "* Dviratis FAT (130€/mėn, 45km/h, 50km, 8.66ct/km, [Link](https://www.dalinuosi.lt/dviraciu-paspirtuku-nuoma/vilnius/elektrinis-fat-dviratis-27451))\n",
    "* Dviratis Fiido D4s (190€/mėn, 30km/h, 90km, 7.03ct/km, [Link](https://www.dalinuosi.lt/dviraciu-paspirtuku-nuoma/vilnius/dviratis-elektrinis-fiido-d4s-pro-3-vnt-21346))\n",
    "* Dviratis Fiido kurjeriams (280€/mėn, 25km/h, 150km, 6.22ct/km, [Link](https://www.shift.lt/puslapis/15-elektriniu-paspirtuku-ir-elektriniu-dviraciu-nuoma))"
   ]
  }
 ],
 "metadata": {
  "celltoolbar": "Tags",
  "kernelspec": {
   "display_name": "Python 3 (ipykernel)",
   "language": "python",
   "name": "python3"
  },
  "language_info": {
   "codemirror_mode": {
    "name": "ipython",
    "version": 3
   },
   "file_extension": ".py",
   "mimetype": "text/x-python",
   "name": "python",
   "nbconvert_exporter": "python",
   "pygments_lexer": "ipython3",
   "version": "3.9.13"
  },
  "toc": {
   "base_numbering": 1,
   "nav_menu": {},
   "number_sections": true,
   "sideBar": true,
   "skip_h1_title": false,
   "title_cell": "Table of Contents",
   "title_sidebar": "Contents",
   "toc_cell": false,
   "toc_position": {},
   "toc_section_display": true,
   "toc_window_display": false
  },
  "varInspector": {
   "cols": {
    "lenName": 16,
    "lenType": 16,
    "lenVar": 40
   },
   "kernels_config": {
    "python": {
     "delete_cmd_postfix": "",
     "delete_cmd_prefix": "del ",
     "library": "var_list.py",
     "varRefreshCmd": "print(var_dic_list())"
    },
    "r": {
     "delete_cmd_postfix": ") ",
     "delete_cmd_prefix": "rm(",
     "library": "var_list.r",
     "varRefreshCmd": "cat(var_dic_list()) "
    }
   },
   "types_to_exclude": [
    "module",
    "function",
    "builtin_function_or_method",
    "instance",
    "_Feature"
   ],
   "window_display": false
  }
 },
 "nbformat": 4,
 "nbformat_minor": 1
}
