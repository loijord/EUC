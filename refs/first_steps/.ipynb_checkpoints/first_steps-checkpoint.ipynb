{
 "cells": [
  {
   "cell_type": "markdown",
   "metadata": {},
   "source": [
    "## Kaip išmokti važiuoti vienaračiu ir ko tikėtis išmokus\n",
    "Padėka [YouTuberiui U-Stride](https://www.youtube.com/@UStride) - vieninteliam, pas kurį pavyko aptikti nuoseklų video, kaip mokytis važiuoti vienaračiu:"
   ]
  },
  {
   "cell_type": "code",
   "execution_count": 12,
   "metadata": {},
   "outputs": [],
   "source": [
    "#jupyter nbconvert --to html --no-input refs/first_steps/first_steps.ipynb"
   ]
  },
  {
   "cell_type": "code",
   "execution_count": 1,
   "metadata": {},
   "outputs": [
    {
     "data": {
      "text/html": [
       "<iframe width=\"560\" height=\"315\" src=\"https://www.youtube.com/embed/95Oih2GN718\"></iframe> \n"
      ],
      "text/plain": [
       "<IPython.core.display.HTML object>"
      ]
     },
     "metadata": {},
     "output_type": "display_data"
    }
   ],
   "source": [
    "%%HTML\n",
    "<iframe width=\"560\" height=\"315\" src=\"https://www.youtube.com/embed/95Oih2GN718\"></iframe> "
   ]
  },
  {
   "cell_type": "markdown",
   "metadata": {},
   "source": [
    "Išmokti vienaračiu - labai paprasta. Tiesiog tereikia treniruotis atlikti dvylika žingsnių, po kurių rezultatas bus pasiektas. Patartina treniruotėms skirti savaitę laiko po valandą per dieną. Pirmus kelis kilometrus gali pavykti nuvažiuoti jau po pirmų trijų dienų treniravimosi aikštelėje. Iš pradžių važiuoti bus sunku, nes tiesiu šaligatviu važiuojant mėtys į šonus, todėl reiks važiuoti lėtai ir atsargiai. Po savaitės tokių treniruočių važiavimas turėtų būti jau saugus - įveikus dar bent keliolika kilometrų nebebijosite judėti net ir 30 km/h greičiu. \n",
    "    \n",
    "### 12 Steps on ***How to Ride an Electric Unicycle*** - For Absolute Beginners\n",
    "#### Video apžvalga\n",
    "|Pratimas|Kiek kartų kartoti|Pastabos|\n",
    "|:--|:--|:--|\n",
    "|[Vienaračio laikymas su pėda ir blauzda](https://www.youtube.com/watch?v=95Oih2GN718&t=55s)|30|Pirmiausia pratimą daryti laikant vienaratį su ranka, paskui - be rankos|\n",
    "|[Atsistojimas ant vienaračio](https://www.youtube.com/watch?v=95Oih2GN718&t=97s)|30|Laikantis už atramos užlipti ant vienaračio|\n",
    "|[Daugiau pėdos ir blauzdos kontrolės: pusapskritimis](https://www.youtube.com/watch?v=95Oih2GN718&t=146s)|30 + 30|Uždėjus stipriąją pėdą sukti pusapskritimius iš šono|\n",
    "|[Važiavimas pirmyn atgal](https://www.youtube.com/watch?v=95Oih2GN718&t=185s)|30 + 30|Laikantis už atramos važinėti pirmyn atgal ant abiejų kojų|\n",
    "|[Važiavimas iš A į B remiantis](https://www.youtube.com/watch?v=95Oih2GN718&t=213s)|30 + 30|Pasirinkti du taškus ir laikantis už atramos judėti pirmyn ir atgal|\n",
    "|[Važiavimas iš A į B minimaliai remiantis](https://www.youtube.com/watch?v=95Oih2GN718&t=270s)|30 + 30|Tas pats, tik judant į priekį stengtis nesiremti|\n",
    "|[Važiavimas iš A į B nesiremiant](https://www.youtube.com/watch?v=95Oih2GN718&t=324s)|30 ir daugiau|Tas pats, tik judant į priekį visiškai nesiremti; paskui pratimus kartoti nuo pradžios|\n",
    "|[Daugiau pėdos ir blauzdos kontrolės: pusapskritimis](https://www.youtube.com/watch?v=95Oih2GN718&t=414s)|30|Uždėjus stipriąją pėdą sukti pusapskritimius iš šono|\n",
    "|[Rato vairavimas viena koja](https://www.youtube.com/watch?v=95Oih2GN718&t=539s)|30|Važiuoti į priekį atsispiriant viena koja du kartus; grįžti prie ankstesnių žigsnių, jei reikia|\n",
    "|[Važiavimas su užlipimu ir nulipimas](https://www.youtube.com/watch?v=95Oih2GN718&t=651s)|10 + 30|Pan. kaip ir ankstesniame pratime, bet atsispirti tik vieną kartą; ilginti tarpą tarp atsispyrimų|\n",
    "|[Ilgesnis važiavimas su užlipimu ir nulipimu](https://www.youtube.com/watch?v=95Oih2GN718&t=808s)|30|Tas pats pratimas, tik su ilga važiavimo neatsispiriant trukme|\n",
    "|[Finalas: posūkiai](https://www.youtube.com/watch?v=95Oih2GN718&t=960s)|-|Lingavimas į šonus minant pedalus skirtingu svoriu; vėliau šio žingsnio taikymas darant posūkį|\n",
    "\n",
    "Darant kiekvieną iš pratimų taip pat reikėtų įsidėmėti šiuos principus:\n",
    "\n",
    "* Pagrindinis visų pratimų tikslas - įgyti pėdų kontrolę. Tai yra, pripratinti kojų raumenis jaustis patogiai, kol dirba naujos pėdos ir blauzdos raumenų grupės. Kuo daugiau pėdos kontrolės, tuo labiau kontroliuosite priemonę (o ne ji jus kontroliuos)\n",
    "* Darant visus pratimus stengtis kuo mažiau naudotis atrama\n",
    "* Darant posūkius paskutiniame pratime reikia ne tik pėdų kontrolės, bet ir išmokti valdyti kojų svorius panašiai kaip minant dviračio pedalus. Kai pedalai yra veikiami skirtingu svoriu, atsiranda poreikis surasti patogią pėdų poziciją: kiek kojos turi būti paslinktos į priekį ir kiek jos išskėstos. Ši dalis sunkumų sukelti neturėtų, nes prie patogios pozicijos priprasite su laiku.\n",
    "\n",
    "### Naktinio Saimono patirtis\n",
    "\n",
    "Važiuojant su vienaračiu garantuotai teks ne kartą kristi, tačiau nieko baisaus. Laikantis saugaus greičio (iki 25km/h) dažniausi kritimai būna užkliuvus už bordiūro ar važiuojant duobėtu keliu, bet šie kritimai būna nepavojingi (jei nedalyvaujama judriame eisme), nes vienaratis - tai transporto priemonė, kurią justi ir valdyti galima daug lanksčiau, tad iki bet kurio įvykio dažniausiai greitis būna jau spėjęs sulėtėti, o praradus kontrolę blogiausiu atveju vienaratis išslys iš po kojų ir jūs galėsite atsistoti ant kojų nenuvirtę, priešingai nei su kitomis ne automobilinėmis transporto priemonėmis. \n",
    "\n",
    "Įpratus važiuoti greičio poreikis išauga (kai kuriems vienaratininkams net ir 50km/h tampa per mažai), o kartu sumažėja ir savisaugos instiktas kelyje, todėl viršijus saugų 25km/h greitį ir praradus kontrolę dėl nenumatytos kliūties kelyje jau tampa sunku išvengti virtimo. Tokie atvejai reti, bet jų vis tiek gali pasitaikyti (žinoma, stenkitės kelyje nerizikuoti). Tuomet labiausiai kenčia plaštakos ir keliai. Labiausiai patartina pasirūpinti kelių ir riešų apsaugomis. Patirti smūgį galva labai maža tikimybė, tačiau labai baisūs padariniai, todėl pasirūpinkite ir geru šalmu. \n",
    "\n",
    "Kas turi baimę, kad elektronika važiuojant atsijungs ir teks prarasti balansą - tai labai retas reiškinys, dažniausiai įvykstantis dėl nesaugaus važiavimo. Tokie atvejai dažniausiai įvyksta dėl per didelės pagreičio arba didesnių nei 70km/h greičių su tokioms apkrovoms nepritaikyta priemone, kai motoro galia viršija baterijos galios pajėgumus. Bet kuria elektrifikuota transporto priemone važinėjant pirmasis nuvažiuotas tūkstantis kilometrų būna pavojingiausias, kol nepriprantama jos valdyti. "
   ]
  }
 ],
 "metadata": {
  "kernelspec": {
   "display_name": "Python 3 (ipykernel)",
   "language": "python",
   "name": "python3"
  },
  "language_info": {
   "codemirror_mode": {
    "name": "ipython",
    "version": 3
   },
   "file_extension": ".py",
   "mimetype": "text/x-python",
   "name": "python",
   "nbconvert_exporter": "python",
   "pygments_lexer": "ipython3",
   "version": "3.9.13"
  },
  "toc": {
   "base_numbering": 1,
   "nav_menu": {},
   "number_sections": true,
   "sideBar": true,
   "skip_h1_title": false,
   "title_cell": "Table of Contents",
   "title_sidebar": "Contents",
   "toc_cell": false,
   "toc_position": {},
   "toc_section_display": true,
   "toc_window_display": false
  },
  "varInspector": {
   "cols": {
    "lenName": 16,
    "lenType": 16,
    "lenVar": 40
   },
   "kernels_config": {
    "python": {
     "delete_cmd_postfix": "",
     "delete_cmd_prefix": "del ",
     "library": "var_list.py",
     "varRefreshCmd": "print(var_dic_list())"
    },
    "r": {
     "delete_cmd_postfix": ") ",
     "delete_cmd_prefix": "rm(",
     "library": "var_list.r",
     "varRefreshCmd": "cat(var_dic_list()) "
    }
   },
   "types_to_exclude": [
    "module",
    "function",
    "builtin_function_or_method",
    "instance",
    "_Feature"
   ],
   "window_display": false
  }
 },
 "nbformat": 4,
 "nbformat_minor": 1
}
